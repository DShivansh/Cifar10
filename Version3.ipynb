{
  "nbformat": 4,
  "nbformat_minor": 0,
  "metadata": {
    "colab": {
      "name": "Version3.ipynb",
      "version": "0.3.2",
      "provenance": []
    },
    "kernelspec": {
      "name": "python3",
      "display_name": "Python 3"
    },
    "accelerator": "GPU"
  },
  "cells": [
    {
      "metadata": {
        "id": "W7mYnJEgX39W",
        "colab_type": "code",
        "colab": {}
      },
      "cell_type": "code",
      "source": [
        "from keras.datasets import cifar10\n",
        "\n",
        "(x_train, y_train), (x_test, y_test) = cifar10.load_data()"
      ],
      "execution_count": 0,
      "outputs": []
    },
    {
      "metadata": {
        "id": "ibZqsG0qYakt",
        "colab_type": "code",
        "colab": {}
      },
      "cell_type": "code",
      "source": [
        "## We have to do one-hot coding for y_train and y_test\n",
        "from keras.utils import to_categorical\n",
        "num_classes=10\n",
        "y_train=to_categorical(y_train,num_classes)\n",
        "y_test=to_categorical(y_test,num_classes)"
      ],
      "execution_count": 0,
      "outputs": []
    },
    {
      "metadata": {
        "id": "wARWS9wVapoi",
        "colab_type": "code",
        "colab": {}
      },
      "cell_type": "code",
      "source": [
        "x_train = x_train.astype('float32')\n",
        "x_test = x_test.astype('float32')\n",
        "x_train /= 255.0\n",
        "x_test /= 255.0"
      ],
      "execution_count": 0,
      "outputs": []
    },
    {
      "metadata": {
        "id": "Th5jv3k5aq2V",
        "colab_type": "code",
        "colab": {}
      },
      "cell_type": "code",
      "source": [
        ""
      ],
      "execution_count": 0,
      "outputs": []
    },
    {
      "metadata": {
        "id": "nGkMrbJsYkxW",
        "colab_type": "code",
        "colab": {}
      },
      "cell_type": "code",
      "source": [
        "from keras.models import Sequential\n",
        "from keras.layers import Dense, Conv2D ,Flatten,MaxPooling2D,Dropout"
      ],
      "execution_count": 0,
      "outputs": []
    },
    {
      "metadata": {
        "id": "cZEroZm-Yt9q",
        "colab_type": "code",
        "colab": {}
      },
      "cell_type": "code",
      "source": [
        "model=Sequential()\n",
        "\n",
        "## Creating 1st CNN layer\n",
        "conv1=Conv2D(32,(3,3),activation='relu',padding='same',input_shape=x_train.shape[1:])\n",
        "model.add(conv1)\n",
        "conv1_pool=MaxPooling2D(pool_size=(2,2))\n",
        "model.add(conv1_pool)\n",
        "conv1_dropout=Dropout(0.2)\n",
        "\n",
        "##Creating 2nd CNN layer\n",
        "conv2=Conv2D(64,(3,3),activation='relu',padding='same')\n",
        "model.add(conv2)\n",
        "conv2_pool=MaxPooling2D(pool_size=(2,2))\n",
        "model.add(conv2_pool)\n",
        "conv2_dropout=Dropout(0.2)\n",
        "\n",
        "##Creating 3rd CNN layer\n",
        "conv3=Conv2D(128,(3,3),activation='relu',padding='same')\n",
        "model.add(conv3)\n",
        "conv3_pool=MaxPooling2D(pool_size=(2,2))\n",
        "model.add(conv3_pool)\n",
        "conv3_dropout=Dropout(0.2)\n",
        "model.add(conv3_dropout)\n",
        "\n",
        "##Flattening the data by adding the Flatten layer\n",
        "model.add(Flatten())\n",
        "\n",
        "## Creating 1st Hidden layer\n",
        "hidden_layer1=Dense(units=512,activation='relu')\n",
        "model.add(hidden_layer1)\n",
        "hidden_layer1_dropout=Dropout(0.2)\n",
        "model.add(hidden_layer1_dropout)\n",
        "\n",
        "##Creating 2nd Hidden layer\n",
        "hidden_layer2=Dense(units=256,activation='relu')\n",
        "model.add(hidden_layer2)\n",
        "hidden_layer2_dropout=Dropout(0.2)\n",
        "model.add(hidden_layer2_dropout)\n",
        "\n",
        "## Creating the output layer\n",
        "output_layer=Dense(units=num_classes,activation='softmax')\n",
        "model.add(output_layer)\n",
        "                        \n",
        "\n"
      ],
      "execution_count": 0,
      "outputs": []
    },
    {
      "metadata": {
        "id": "wN29d6KLYxCv",
        "colab_type": "code",
        "colab": {
          "base_uri": "https://localhost:8080/",
          "height": 527
        },
        "outputId": "08417970-ca45-4458-89dd-739dcd61b9a2"
      },
      "cell_type": "code",
      "source": [
        "print(model.summary())"
      ],
      "execution_count": 23,
      "outputs": [
        {
          "output_type": "stream",
          "text": [
            "_________________________________________________________________\n",
            "Layer (type)                 Output Shape              Param #   \n",
            "=================================================================\n",
            "conv2d_10 (Conv2D)           (None, 32, 32, 32)        896       \n",
            "_________________________________________________________________\n",
            "max_pooling2d_10 (MaxPooling (None, 16, 16, 32)        0         \n",
            "_________________________________________________________________\n",
            "conv2d_11 (Conv2D)           (None, 16, 16, 64)        18496     \n",
            "_________________________________________________________________\n",
            "max_pooling2d_11 (MaxPooling (None, 8, 8, 64)          0         \n",
            "_________________________________________________________________\n",
            "conv2d_12 (Conv2D)           (None, 8, 8, 128)         73856     \n",
            "_________________________________________________________________\n",
            "max_pooling2d_12 (MaxPooling (None, 4, 4, 128)         0         \n",
            "_________________________________________________________________\n",
            "dropout_16 (Dropout)         (None, 4, 4, 128)         0         \n",
            "_________________________________________________________________\n",
            "flatten_4 (Flatten)          (None, 2048)              0         \n",
            "_________________________________________________________________\n",
            "dense_8 (Dense)              (None, 1024)              2098176   \n",
            "_________________________________________________________________\n",
            "dropout_17 (Dropout)         (None, 1024)              0         \n",
            "_________________________________________________________________\n",
            "dense_9 (Dense)              (None, 10)                10250     \n",
            "=================================================================\n",
            "Total params: 2,201,674\n",
            "Trainable params: 2,201,674\n",
            "Non-trainable params: 0\n",
            "_________________________________________________________________\n",
            "None\n"
          ],
          "name": "stdout"
        }
      ]
    },
    {
      "metadata": {
        "id": "ih7KwYv6YzsW",
        "colab_type": "code",
        "colab": {}
      },
      "cell_type": "code",
      "source": [
        "model.compile(optimizer='adagrad',loss='categorical_crossentropy',metrics=['accuracy'])"
      ],
      "execution_count": 0,
      "outputs": []
    },
    {
      "metadata": {
        "id": "EEL4Vn4tY3Jh",
        "colab_type": "code",
        "colab": {
          "base_uri": "https://localhost:8080/",
          "height": 3451
        },
        "outputId": "d96ff938-e0d4-41e1-d011-e3a1227b365c"
      },
      "cell_type": "code",
      "source": [
        "model.fit(x_train,y_train,epochs=100,batch_size=64,validation_data=(x_test,y_test))"
      ],
      "execution_count": 25,
      "outputs": [
        {
          "output_type": "stream",
          "text": [
            "Train on 50000 samples, validate on 10000 samples\n",
            "Epoch 1/100\n",
            "50000/50000 [==============================] - 16s 327us/step - loss: 1.5367 - acc: 0.4427 - val_loss: 1.2300 - val_acc: 0.5565\n",
            "Epoch 2/100\n",
            "50000/50000 [==============================] - 16s 313us/step - loss: 1.0734 - acc: 0.6191 - val_loss: 0.9753 - val_acc: 0.6584\n",
            "Epoch 3/100\n",
            "50000/50000 [==============================] - 16s 319us/step - loss: 0.9257 - acc: 0.6733 - val_loss: 1.0894 - val_acc: 0.6100\n",
            "Epoch 4/100\n",
            "50000/50000 [==============================] - 15s 305us/step - loss: 0.8371 - acc: 0.7056 - val_loss: 0.8901 - val_acc: 0.6941\n",
            "Epoch 5/100\n",
            "50000/50000 [==============================] - 16s 310us/step - loss: 0.7693 - acc: 0.7285 - val_loss: 0.8340 - val_acc: 0.7053\n",
            "Epoch 6/100\n",
            "50000/50000 [==============================] - 15s 308us/step - loss: 0.7203 - acc: 0.7468 - val_loss: 0.7907 - val_acc: 0.7214\n",
            "Epoch 7/100\n",
            "50000/50000 [==============================] - 15s 295us/step - loss: 0.6791 - acc: 0.7628 - val_loss: 0.7866 - val_acc: 0.7254\n",
            "Epoch 8/100\n",
            "50000/50000 [==============================] - 13s 269us/step - loss: 0.6437 - acc: 0.7758 - val_loss: 0.7639 - val_acc: 0.7369\n",
            "Epoch 9/100\n",
            "50000/50000 [==============================] - 14s 271us/step - loss: 0.6141 - acc: 0.7868 - val_loss: 0.7659 - val_acc: 0.7293\n",
            "Epoch 10/100\n",
            "50000/50000 [==============================] - 14s 276us/step - loss: 0.5836 - acc: 0.7976 - val_loss: 0.7326 - val_acc: 0.7494\n",
            "Epoch 11/100\n",
            "50000/50000 [==============================] - 14s 277us/step - loss: 0.5599 - acc: 0.8037 - val_loss: 0.7261 - val_acc: 0.7529\n",
            "Epoch 12/100\n",
            "50000/50000 [==============================] - 13s 264us/step - loss: 0.5366 - acc: 0.8143 - val_loss: 0.7334 - val_acc: 0.7523\n",
            "Epoch 13/100\n",
            "50000/50000 [==============================] - 13s 270us/step - loss: 0.5105 - acc: 0.8220 - val_loss: 0.6795 - val_acc: 0.7689\n",
            "Epoch 14/100\n",
            "50000/50000 [==============================] - 13s 269us/step - loss: 0.4871 - acc: 0.8312 - val_loss: 0.7252 - val_acc: 0.7477\n",
            "Epoch 15/100\n",
            "50000/50000 [==============================] - 14s 270us/step - loss: 0.4686 - acc: 0.8373 - val_loss: 0.6986 - val_acc: 0.7634\n",
            "Epoch 16/100\n",
            "50000/50000 [==============================] - 13s 269us/step - loss: 0.4508 - acc: 0.8425 - val_loss: 0.6726 - val_acc: 0.7676\n",
            "Epoch 17/100\n",
            "50000/50000 [==============================] - 13s 270us/step - loss: 0.4332 - acc: 0.8514 - val_loss: 0.6807 - val_acc: 0.7711\n",
            "Epoch 18/100\n",
            "50000/50000 [==============================] - 13s 269us/step - loss: 0.4156 - acc: 0.8558 - val_loss: 0.6772 - val_acc: 0.7728\n",
            "Epoch 19/100\n",
            "50000/50000 [==============================] - 13s 269us/step - loss: 0.4000 - acc: 0.8620 - val_loss: 0.6850 - val_acc: 0.7713\n",
            "Epoch 20/100\n",
            "50000/50000 [==============================] - 13s 264us/step - loss: 0.3845 - acc: 0.8677 - val_loss: 0.6689 - val_acc: 0.7722\n",
            "Epoch 21/100\n",
            "50000/50000 [==============================] - 13s 268us/step - loss: 0.3695 - acc: 0.8732 - val_loss: 0.6526 - val_acc: 0.7810\n",
            "Epoch 22/100\n",
            "50000/50000 [==============================] - 13s 270us/step - loss: 0.3534 - acc: 0.8776 - val_loss: 0.6639 - val_acc: 0.7725\n",
            "Epoch 23/100\n",
            "50000/50000 [==============================] - 14s 273us/step - loss: 0.3430 - acc: 0.8810 - val_loss: 0.6500 - val_acc: 0.7823\n",
            "Epoch 24/100\n",
            "50000/50000 [==============================] - 14s 275us/step - loss: 0.3292 - acc: 0.8882 - val_loss: 0.6687 - val_acc: 0.7784\n",
            "Epoch 25/100\n",
            "50000/50000 [==============================] - 14s 281us/step - loss: 0.3158 - acc: 0.8924 - val_loss: 0.6552 - val_acc: 0.7843\n",
            "Epoch 26/100\n",
            "50000/50000 [==============================] - 14s 286us/step - loss: 0.3058 - acc: 0.8966 - val_loss: 0.6525 - val_acc: 0.7818\n",
            "Epoch 27/100\n",
            "50000/50000 [==============================] - 14s 271us/step - loss: 0.2908 - acc: 0.9013 - val_loss: 0.6783 - val_acc: 0.7786\n",
            "Epoch 28/100\n",
            "50000/50000 [==============================] - 14s 274us/step - loss: 0.2822 - acc: 0.9041 - val_loss: 0.7033 - val_acc: 0.7727\n",
            "Epoch 29/100\n",
            "50000/50000 [==============================] - 14s 273us/step - loss: 0.2706 - acc: 0.9079 - val_loss: 0.6837 - val_acc: 0.7779\n",
            "Epoch 30/100\n",
            "50000/50000 [==============================] - 14s 271us/step - loss: 0.2614 - acc: 0.9129 - val_loss: 0.6668 - val_acc: 0.7858\n",
            "Epoch 31/100\n",
            "50000/50000 [==============================] - 14s 271us/step - loss: 0.2509 - acc: 0.9153 - val_loss: 0.6632 - val_acc: 0.7873\n",
            "Epoch 32/100\n",
            "50000/50000 [==============================] - 13s 269us/step - loss: 0.2423 - acc: 0.9186 - val_loss: 0.6771 - val_acc: 0.7815\n",
            "Epoch 33/100\n",
            "50000/50000 [==============================] - 13s 267us/step - loss: 0.2343 - acc: 0.9210 - val_loss: 0.6681 - val_acc: 0.7855\n",
            "Epoch 34/100\n",
            "50000/50000 [==============================] - 14s 272us/step - loss: 0.2266 - acc: 0.9242 - val_loss: 0.6710 - val_acc: 0.7850\n",
            "Epoch 35/100\n",
            "50000/50000 [==============================] - 13s 267us/step - loss: 0.2218 - acc: 0.9271 - val_loss: 0.6754 - val_acc: 0.7826\n",
            "Epoch 36/100\n",
            "50000/50000 [==============================] - 13s 267us/step - loss: 0.2091 - acc: 0.9307 - val_loss: 0.6855 - val_acc: 0.7860\n",
            "Epoch 37/100\n",
            "50000/50000 [==============================] - 14s 271us/step - loss: 0.2048 - acc: 0.9316 - val_loss: 0.6719 - val_acc: 0.7847\n",
            "Epoch 38/100\n",
            "50000/50000 [==============================] - 14s 282us/step - loss: 0.1962 - acc: 0.9353 - val_loss: 0.6852 - val_acc: 0.7885\n",
            "Epoch 39/100\n",
            "50000/50000 [==============================] - 15s 304us/step - loss: 0.1886 - acc: 0.9389 - val_loss: 0.6838 - val_acc: 0.7888\n",
            "Epoch 40/100\n",
            "50000/50000 [==============================] - 15s 297us/step - loss: 0.1793 - acc: 0.9422 - val_loss: 0.6891 - val_acc: 0.7898\n",
            "Epoch 41/100\n",
            "50000/50000 [==============================] - 14s 286us/step - loss: 0.1771 - acc: 0.9425 - val_loss: 0.6902 - val_acc: 0.7855\n",
            "Epoch 42/100\n",
            "50000/50000 [==============================] - 14s 282us/step - loss: 0.1705 - acc: 0.9453 - val_loss: 0.6894 - val_acc: 0.7875\n",
            "Epoch 43/100\n",
            "50000/50000 [==============================] - 14s 280us/step - loss: 0.1641 - acc: 0.9471 - val_loss: 0.7637 - val_acc: 0.7740\n",
            "Epoch 44/100\n",
            "50000/50000 [==============================] - 14s 276us/step - loss: 0.1604 - acc: 0.9498 - val_loss: 0.6898 - val_acc: 0.7883\n",
            "Epoch 45/100\n",
            "50000/50000 [==============================] - 14s 281us/step - loss: 0.1556 - acc: 0.9497 - val_loss: 0.7044 - val_acc: 0.7862\n",
            "Epoch 46/100\n",
            "50000/50000 [==============================] - 14s 276us/step - loss: 0.1506 - acc: 0.9523 - val_loss: 0.6917 - val_acc: 0.7908\n",
            "Epoch 47/100\n",
            "50000/50000 [==============================] - 14s 278us/step - loss: 0.1428 - acc: 0.9551 - val_loss: 0.7070 - val_acc: 0.7903\n",
            "Epoch 48/100\n",
            "50000/50000 [==============================] - 15s 298us/step - loss: 0.1414 - acc: 0.9549 - val_loss: 0.7126 - val_acc: 0.7879\n",
            "Epoch 49/100\n",
            "50000/50000 [==============================] - 14s 285us/step - loss: 0.1398 - acc: 0.9552 - val_loss: 0.7068 - val_acc: 0.7914\n",
            "Epoch 50/100\n",
            "50000/50000 [==============================] - 14s 285us/step - loss: 0.1325 - acc: 0.9583 - val_loss: 0.7306 - val_acc: 0.7866\n",
            "Epoch 51/100\n",
            "50000/50000 [==============================] - 14s 280us/step - loss: 0.1310 - acc: 0.9589 - val_loss: 0.7201 - val_acc: 0.7891\n",
            "Epoch 52/100\n",
            "50000/50000 [==============================] - 14s 273us/step - loss: 0.1258 - acc: 0.9594 - val_loss: 0.7243 - val_acc: 0.7889\n",
            "Epoch 53/100\n",
            "50000/50000 [==============================] - 14s 280us/step - loss: 0.1204 - acc: 0.9618 - val_loss: 0.7218 - val_acc: 0.7911\n",
            "Epoch 54/100\n",
            "50000/50000 [==============================] - 14s 278us/step - loss: 0.1182 - acc: 0.9634 - val_loss: 0.7250 - val_acc: 0.7886\n",
            "Epoch 55/100\n",
            "50000/50000 [==============================] - 14s 274us/step - loss: 0.1149 - acc: 0.9646 - val_loss: 0.7408 - val_acc: 0.7904\n",
            "Epoch 56/100\n",
            "50000/50000 [==============================] - 14s 277us/step - loss: 0.1135 - acc: 0.9646 - val_loss: 0.7350 - val_acc: 0.7871\n",
            "Epoch 57/100\n",
            "50000/50000 [==============================] - 13s 263us/step - loss: 0.1099 - acc: 0.9664 - val_loss: 0.7364 - val_acc: 0.7934\n",
            "Epoch 58/100\n",
            "50000/50000 [==============================] - 14s 278us/step - loss: 0.1064 - acc: 0.9670 - val_loss: 0.7357 - val_acc: 0.7922\n",
            "Epoch 59/100\n",
            "50000/50000 [==============================] - 14s 275us/step - loss: 0.1065 - acc: 0.9667 - val_loss: 0.7384 - val_acc: 0.7920\n",
            "Epoch 60/100\n",
            "50000/50000 [==============================] - 14s 271us/step - loss: 0.1024 - acc: 0.9688 - val_loss: 0.7601 - val_acc: 0.7886\n",
            "Epoch 61/100\n",
            "50000/50000 [==============================] - 14s 270us/step - loss: 0.1007 - acc: 0.9696 - val_loss: 0.7382 - val_acc: 0.7903\n",
            "Epoch 62/100\n",
            "50000/50000 [==============================] - 14s 276us/step - loss: 0.0968 - acc: 0.9712 - val_loss: 0.7551 - val_acc: 0.7878\n",
            "Epoch 63/100\n",
            "50000/50000 [==============================] - 13s 269us/step - loss: 0.0946 - acc: 0.9712 - val_loss: 0.7453 - val_acc: 0.7924\n",
            "Epoch 64/100\n",
            "50000/50000 [==============================] - 14s 278us/step - loss: 0.0946 - acc: 0.9708 - val_loss: 0.7389 - val_acc: 0.7912\n",
            "Epoch 65/100\n",
            "50000/50000 [==============================] - 14s 273us/step - loss: 0.0902 - acc: 0.9730 - val_loss: 0.7470 - val_acc: 0.7930\n",
            "Epoch 66/100\n",
            "50000/50000 [==============================] - 14s 280us/step - loss: 0.0874 - acc: 0.9729 - val_loss: 0.7550 - val_acc: 0.7912\n",
            "Epoch 67/100\n",
            "50000/50000 [==============================] - 14s 275us/step - loss: 0.0866 - acc: 0.9746 - val_loss: 0.7579 - val_acc: 0.7911\n",
            "Epoch 68/100\n",
            "50000/50000 [==============================] - 14s 275us/step - loss: 0.0847 - acc: 0.9740 - val_loss: 0.7550 - val_acc: 0.7933\n",
            "Epoch 69/100\n",
            "50000/50000 [==============================] - 14s 277us/step - loss: 0.0854 - acc: 0.9739 - val_loss: 0.7603 - val_acc: 0.7896\n",
            "Epoch 70/100\n",
            "50000/50000 [==============================] - 15s 292us/step - loss: 0.0809 - acc: 0.9760 - val_loss: 0.7647 - val_acc: 0.7895\n",
            "Epoch 71/100\n",
            "50000/50000 [==============================] - 15s 292us/step - loss: 0.0774 - acc: 0.9775 - val_loss: 0.7716 - val_acc: 0.7893\n",
            "Epoch 72/100\n",
            "50000/50000 [==============================] - 14s 286us/step - loss: 0.0773 - acc: 0.9769 - val_loss: 0.7753 - val_acc: 0.7925\n",
            "Epoch 73/100\n",
            "50000/50000 [==============================] - 14s 282us/step - loss: 0.0746 - acc: 0.9780 - val_loss: 0.7616 - val_acc: 0.7930\n",
            "Epoch 74/100\n",
            "50000/50000 [==============================] - 14s 286us/step - loss: 0.0764 - acc: 0.9780 - val_loss: 0.7649 - val_acc: 0.7942\n",
            "Epoch 75/100\n",
            "50000/50000 [==============================] - 14s 285us/step - loss: 0.0729 - acc: 0.9784 - val_loss: 0.7700 - val_acc: 0.7919\n",
            "Epoch 76/100\n",
            "50000/50000 [==============================] - 14s 281us/step - loss: 0.0724 - acc: 0.9782 - val_loss: 0.8286 - val_acc: 0.7817\n",
            "Epoch 77/100\n",
            "50000/50000 [==============================] - 14s 285us/step - loss: 0.0698 - acc: 0.9793 - val_loss: 0.7797 - val_acc: 0.7927\n",
            "Epoch 78/100\n",
            "50000/50000 [==============================] - 14s 281us/step - loss: 0.0692 - acc: 0.9796 - val_loss: 0.7735 - val_acc: 0.7946\n",
            "Epoch 79/100\n",
            "50000/50000 [==============================] - 14s 283us/step - loss: 0.0684 - acc: 0.9805 - val_loss: 0.7747 - val_acc: 0.7924\n",
            "Epoch 80/100\n",
            "50000/50000 [==============================] - 14s 285us/step - loss: 0.0684 - acc: 0.9793 - val_loss: 0.7808 - val_acc: 0.7922\n",
            "Epoch 81/100\n",
            "50000/50000 [==============================] - 14s 277us/step - loss: 0.0636 - acc: 0.9814 - val_loss: 0.7931 - val_acc: 0.7927\n",
            "Epoch 82/100\n",
            "50000/50000 [==============================] - 14s 285us/step - loss: 0.0649 - acc: 0.9810 - val_loss: 0.7832 - val_acc: 0.7932\n",
            "Epoch 83/100\n",
            "50000/50000 [==============================] - 14s 275us/step - loss: 0.0622 - acc: 0.9822 - val_loss: 0.7867 - val_acc: 0.7903\n",
            "Epoch 84/100\n",
            "50000/50000 [==============================] - 14s 273us/step - loss: 0.0622 - acc: 0.9817 - val_loss: 0.7964 - val_acc: 0.7925\n",
            "Epoch 85/100\n",
            "50000/50000 [==============================] - 14s 276us/step - loss: 0.0605 - acc: 0.9825 - val_loss: 0.7957 - val_acc: 0.7943\n",
            "Epoch 86/100\n",
            "50000/50000 [==============================] - 14s 286us/step - loss: 0.0601 - acc: 0.9820 - val_loss: 0.7860 - val_acc: 0.7910\n",
            "Epoch 87/100\n",
            "50000/50000 [==============================] - 14s 282us/step - loss: 0.0572 - acc: 0.9833 - val_loss: 0.8165 - val_acc: 0.7898\n",
            "Epoch 88/100\n",
            "50000/50000 [==============================] - 14s 277us/step - loss: 0.0586 - acc: 0.9839 - val_loss: 0.7935 - val_acc: 0.7930\n",
            "Epoch 89/100\n",
            "50000/50000 [==============================] - 14s 277us/step - loss: 0.0566 - acc: 0.9838 - val_loss: 0.8055 - val_acc: 0.7947\n",
            "Epoch 90/100\n",
            "50000/50000 [==============================] - 14s 283us/step - loss: 0.0553 - acc: 0.9847 - val_loss: 0.7894 - val_acc: 0.7945\n",
            "Epoch 91/100\n",
            "50000/50000 [==============================] - 14s 290us/step - loss: 0.0558 - acc: 0.9838 - val_loss: 0.8098 - val_acc: 0.7909\n",
            "Epoch 92/100\n",
            "50000/50000 [==============================] - 15s 300us/step - loss: 0.0545 - acc: 0.9841 - val_loss: 0.8036 - val_acc: 0.7923\n",
            "Epoch 93/100\n",
            "50000/50000 [==============================] - 15s 302us/step - loss: 0.0529 - acc: 0.9849 - val_loss: 0.8053 - val_acc: 0.7943\n",
            "Epoch 94/100\n",
            "50000/50000 [==============================] - 15s 302us/step - loss: 0.0509 - acc: 0.9852 - val_loss: 0.8116 - val_acc: 0.7941\n",
            "Epoch 95/100\n",
            "50000/50000 [==============================] - 15s 298us/step - loss: 0.0544 - acc: 0.9836 - val_loss: 0.8055 - val_acc: 0.7933\n",
            "Epoch 96/100\n",
            "50000/50000 [==============================] - 15s 293us/step - loss: 0.0524 - acc: 0.9848 - val_loss: 0.8110 - val_acc: 0.7947\n",
            "Epoch 97/100\n",
            "50000/50000 [==============================] - 14s 287us/step - loss: 0.0515 - acc: 0.9841 - val_loss: 0.8067 - val_acc: 0.7955\n",
            "Epoch 98/100\n",
            "50000/50000 [==============================] - 14s 283us/step - loss: 0.0490 - acc: 0.9860 - val_loss: 0.8228 - val_acc: 0.7943\n",
            "Epoch 99/100\n",
            "50000/50000 [==============================] - 14s 285us/step - loss: 0.0494 - acc: 0.9861 - val_loss: 0.8162 - val_acc: 0.7937\n",
            "Epoch 100/100\n",
            "50000/50000 [==============================] - 14s 288us/step - loss: 0.0479 - acc: 0.9872 - val_loss: 0.8187 - val_acc: 0.7941\n"
          ],
          "name": "stdout"
        },
        {
          "output_type": "execute_result",
          "data": {
            "text/plain": [
              "<keras.callbacks.History at 0x7f9af36c3748>"
            ]
          },
          "metadata": {
            "tags": []
          },
          "execution_count": 25
        }
      ]
    },
    {
      "metadata": {
        "id": "8ts8DGc-ZGT9",
        "colab_type": "code",
        "colab": {
          "base_uri": "https://localhost:8080/",
          "height": 85
        },
        "outputId": "25d82e70-b0e4-40d0-83fb-0150afb48aec"
      },
      "cell_type": "code",
      "source": [
        "print(\"Testing Score\",model.evaluate(x_test,y_test)[1])\n",
        "print(\"Training Score\",model.evaluate(x_train,y_train)[1])"
      ],
      "execution_count": 28,
      "outputs": [
        {
          "output_type": "stream",
          "text": [
            "10000/10000 [==============================] - 2s 172us/step\n",
            "Testing Score 0.7941\n",
            "50000/50000 [==============================] - 7s 148us/step\n",
            "Training Score 0.99998\n"
          ],
          "name": "stdout"
        }
      ]
    },
    {
      "metadata": {
        "id": "pKebPEFfY3NO",
        "colab_type": "code",
        "colab": {}
      },
      "cell_type": "code",
      "source": [
        ""
      ],
      "execution_count": 0,
      "outputs": []
    }
  ]
}