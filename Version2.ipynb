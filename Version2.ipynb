{
 "cells": [
  {
   "cell_type": "code",
   "execution_count": 1,
   "metadata": {},
   "outputs": [],
   "source": [
    "import cifar10\n",
    "import matplotlib.pyplot as plt"
   ]
  },
  {
   "cell_type": "code",
   "execution_count": 2,
   "metadata": {},
   "outputs": [],
   "source": [
    "cifar10.data_patch='data/Cifar-10/'"
   ]
  },
  {
   "cell_type": "code",
   "execution_count": 3,
   "metadata": {},
   "outputs": [
    {
     "name": "stdout",
     "output_type": "stream",
     "text": [
      "Data has apparently already been downloaded and unpacked.\n"
     ]
    }
   ],
   "source": [
    "cifar10.maybe_download_and_extract()"
   ]
  },
  {
   "cell_type": "code",
   "execution_count": 4,
   "metadata": {},
   "outputs": [
    {
     "name": "stdout",
     "output_type": "stream",
     "text": [
      "Loading data: data/CIFAR-10/cifar-10-batches-py/batches.meta\n"
     ]
    },
    {
     "data": {
      "text/plain": [
       "['airplane',\n",
       " 'automobile',\n",
       " 'bird',\n",
       " 'cat',\n",
       " 'deer',\n",
       " 'dog',\n",
       " 'frog',\n",
       " 'horse',\n",
       " 'ship',\n",
       " 'truck']"
      ]
     },
     "execution_count": 4,
     "metadata": {},
     "output_type": "execute_result"
    }
   ],
   "source": [
    "class_names = cifar10.load_class_names()\n",
    "class_names"
   ]
  },
  {
   "cell_type": "code",
   "execution_count": 5,
   "metadata": {},
   "outputs": [
    {
     "name": "stdout",
     "output_type": "stream",
     "text": [
      "Loading data: data/CIFAR-10/cifar-10-batches-py/data_batch_1\n",
      "Loading data: data/CIFAR-10/cifar-10-batches-py/data_batch_2\n",
      "Loading data: data/CIFAR-10/cifar-10-batches-py/data_batch_3\n",
      "Loading data: data/CIFAR-10/cifar-10-batches-py/data_batch_4\n",
      "Loading data: data/CIFAR-10/cifar-10-batches-py/data_batch_5\n",
      "Loading data: data/CIFAR-10/cifar-10-batches-py/test_batch\n"
     ]
    }
   ],
   "source": [
    "images_train, cls_train, labels_train = cifar10.load_training_data()\n",
    "images_test, cls_test, labels_test = cifar10.load_test_data()"
   ]
  },
  {
   "cell_type": "code",
   "execution_count": 6,
   "metadata": {},
   "outputs": [
    {
     "name": "stdout",
     "output_type": "stream",
     "text": [
      "images_train (50000, 32, 32, 3)\n",
      "cls_train (50000,)\n",
      "labels_train (50000, 10)\n"
     ]
    }
   ],
   "source": [
    "print(\"images_train\",images_train.shape)\n",
    "print(\"cls_train\",cls_train.shape)\n",
    "print(\"labels_train\",labels_train.shape)"
   ]
  },
  {
   "cell_type": "code",
   "execution_count": 7,
   "metadata": {},
   "outputs": [
    {
     "name": "stdout",
     "output_type": "stream",
     "text": [
      "images_test (10000, 32, 32, 3)\n",
      "cls_test (10000,)\n",
      "labels_test (10000, 10)\n"
     ]
    }
   ],
   "source": [
    "print(\"images_test\",images_test.shape)\n",
    "print(\"cls_test\",cls_test.shape)\n",
    "print(\"labels_test\",labels_test.shape)"
   ]
  },
  {
   "cell_type": "code",
   "execution_count": 8,
   "metadata": {},
   "outputs": [],
   "source": [
    "train_pixel=images_train.reshape(50000,3072)\n",
    "test_pixel=images_test.reshape(10000,3072)"
   ]
  },
  {
   "cell_type": "code",
   "execution_count": 9,
   "metadata": {},
   "outputs": [],
   "source": [
    "X_train,X_test,Y_train,Y_test=train_pixel,test_pixel,labels_train,labels_test"
   ]
  },
  {
   "cell_type": "code",
   "execution_count": 10,
   "metadata": {},
   "outputs": [],
   "source": [
    "X_train=X_train/255\n",
    "X_test=X_test/255"
   ]
  },
  {
   "cell_type": "code",
   "execution_count": 11,
   "metadata": {},
   "outputs": [],
   "source": [
    "k=3072"
   ]
  },
  {
   "cell_type": "code",
   "execution_count": 12,
   "metadata": {},
   "outputs": [
    {
     "name": "stderr",
     "output_type": "stream",
     "text": [
      "/anaconda3/lib/python3.6/site-packages/h5py/__init__.py:36: FutureWarning: Conversion of the second argument of issubdtype from `float` to `np.floating` is deprecated. In future, it will be treated as `np.float64 == np.dtype(float).type`.\n",
      "  from ._conv import register_converters as _register_converters\n",
      "Using TensorFlow backend.\n"
     ]
    }
   ],
   "source": [
    "from keras.layers import Dense\n",
    "from keras.models import Sequential"
   ]
  },
  {
   "cell_type": "code",
   "execution_count": 13,
   "metadata": {},
   "outputs": [],
   "source": [
    "model=Sequential()"
   ]
  },
  {
   "cell_type": "code",
   "execution_count": 14,
   "metadata": {},
   "outputs": [],
   "source": [
    "layer1=Dense(units=512,activation='relu',input_dim=k)\n",
    "model.add(layer1)\n",
    "layer2=Dense(units=256,activation='relu')\n",
    "model.add(layer2)\n",
    "layer3=Dense(units=128,activation='relu')\n",
    "model.add(layer3)\n",
    "output_layer=Dense(units=10,activation='softmax')\n",
    "model.add(output_layer)"
   ]
  },
  {
   "cell_type": "code",
   "execution_count": 15,
   "metadata": {},
   "outputs": [],
   "source": [
    "model.compile(optimizer='adagrad',loss='categorical_crossentropy',metrics=['accuracy'])"
   ]
  },
  {
   "cell_type": "code",
   "execution_count": 16,
   "metadata": {
    "scrolled": true
   },
   "outputs": [
    {
     "name": "stdout",
     "output_type": "stream",
     "text": [
      "Train on 50000 samples, validate on 10000 samples\n",
      "Epoch 1/100\n",
      "50000/50000 [==============================] - 16s 313us/step - loss: 1.9914 - acc: 0.2541 - val_loss: 1.9072 - val_acc: 0.2959\n",
      "Epoch 2/100\n",
      "50000/50000 [==============================] - 14s 287us/step - loss: 1.8603 - acc: 0.3184 - val_loss: 1.8214 - val_acc: 0.3313\n",
      "Epoch 3/100\n",
      "50000/50000 [==============================] - 12s 237us/step - loss: 1.7985 - acc: 0.3447 - val_loss: 1.8059 - val_acc: 0.3453\n",
      "Epoch 4/100\n",
      "50000/50000 [==============================] - 12s 237us/step - loss: 1.7550 - acc: 0.3633 - val_loss: 1.7387 - val_acc: 0.3671\n",
      "Epoch 5/100\n",
      "50000/50000 [==============================] - 13s 263us/step - loss: 1.7198 - acc: 0.3755 - val_loss: 1.7085 - val_acc: 0.3797\n",
      "Epoch 6/100\n",
      "50000/50000 [==============================] - 14s 284us/step - loss: 1.6923 - acc: 0.3847 - val_loss: 1.6805 - val_acc: 0.3889\n",
      "Epoch 7/100\n",
      "50000/50000 [==============================] - 14s 283us/step - loss: 1.6694 - acc: 0.3933 - val_loss: 1.6628 - val_acc: 0.4007\n",
      "Epoch 8/100\n",
      "50000/50000 [==============================] - 15s 298us/step - loss: 1.6506 - acc: 0.4008 - val_loss: 1.6674 - val_acc: 0.3980\n",
      "Epoch 9/100\n",
      "50000/50000 [==============================] - 15s 302us/step - loss: 1.6340 - acc: 0.4081 - val_loss: 1.6267 - val_acc: 0.4142\n",
      "Epoch 10/100\n",
      "50000/50000 [==============================] - 13s 253us/step - loss: 1.6190 - acc: 0.4144 - val_loss: 1.6149 - val_acc: 0.4161\n",
      "Epoch 11/100\n",
      "50000/50000 [==============================] - 14s 271us/step - loss: 1.6056 - acc: 0.4211 - val_loss: 1.5996 - val_acc: 0.4246\n",
      "Epoch 12/100\n",
      "50000/50000 [==============================] - 17s 345us/step - loss: 1.5934 - acc: 0.4248 - val_loss: 1.6004 - val_acc: 0.4253\n",
      "Epoch 13/100\n",
      "50000/50000 [==============================] - 16s 328us/step - loss: 1.5822 - acc: 0.4295 - val_loss: 1.5986 - val_acc: 0.4287\n",
      "Epoch 14/100\n",
      "50000/50000 [==============================] - 16s 325us/step - loss: 1.5714 - acc: 0.4326 - val_loss: 1.5744 - val_acc: 0.4348\n",
      "Epoch 15/100\n",
      "50000/50000 [==============================] - 16s 327us/step - loss: 1.5617 - acc: 0.4369 - val_loss: 1.5768 - val_acc: 0.4327\n",
      "Epoch 16/100\n",
      "50000/50000 [==============================] - 15s 300us/step - loss: 1.5528 - acc: 0.4404 - val_loss: 1.5616 - val_acc: 0.4423\n",
      "Epoch 17/100\n",
      "50000/50000 [==============================] - 13s 259us/step - loss: 1.5444 - acc: 0.4439 - val_loss: 1.5444 - val_acc: 0.4504\n",
      "Epoch 18/100\n",
      "50000/50000 [==============================] - 15s 308us/step - loss: 1.5369 - acc: 0.4466 - val_loss: 1.5403 - val_acc: 0.4517\n",
      "Epoch 19/100\n",
      "50000/50000 [==============================] - 17s 333us/step - loss: 1.5295 - acc: 0.4482 - val_loss: 1.5408 - val_acc: 0.4480\n",
      "Epoch 20/100\n",
      "50000/50000 [==============================] - 16s 326us/step - loss: 1.5237 - acc: 0.4537 - val_loss: 1.5681 - val_acc: 0.4405\n",
      "Epoch 21/100\n",
      "50000/50000 [==============================] - 15s 290us/step - loss: 1.5173 - acc: 0.4565 - val_loss: 1.5371 - val_acc: 0.4471\n",
      "Epoch 22/100\n",
      "50000/50000 [==============================] - 13s 261us/step - loss: 1.5117 - acc: 0.4576 - val_loss: 1.5288 - val_acc: 0.4552\n",
      "Epoch 23/100\n",
      "50000/50000 [==============================] - 13s 263us/step - loss: 1.5061 - acc: 0.4601 - val_loss: 1.5203 - val_acc: 0.4615\n",
      "Epoch 24/100\n",
      "50000/50000 [==============================] - 13s 264us/step - loss: 1.5008 - acc: 0.4616 - val_loss: 1.5107 - val_acc: 0.4647\n",
      "Epoch 25/100\n",
      "50000/50000 [==============================] - 15s 302us/step - loss: 1.4958 - acc: 0.4652 - val_loss: 1.5230 - val_acc: 0.4557\n",
      "Epoch 26/100\n",
      "50000/50000 [==============================] - 17s 334us/step - loss: 1.4916 - acc: 0.4665 - val_loss: 1.5109 - val_acc: 0.4612\n",
      "Epoch 27/100\n",
      "50000/50000 [==============================] - 17s 331us/step - loss: 1.4871 - acc: 0.4689 - val_loss: 1.4995 - val_acc: 0.4704\n",
      "Epoch 28/100\n",
      "50000/50000 [==============================] - 16s 317us/step - loss: 1.4825 - acc: 0.4700 - val_loss: 1.5097 - val_acc: 0.4636\n",
      "Epoch 29/100\n",
      "50000/50000 [==============================] - 16s 317us/step - loss: 1.4781 - acc: 0.4713 - val_loss: 1.5078 - val_acc: 0.4600\n",
      "Epoch 30/100\n",
      "50000/50000 [==============================] - 17s 337us/step - loss: 1.4742 - acc: 0.4729 - val_loss: 1.4898 - val_acc: 0.4760\n",
      "Epoch 31/100\n",
      "50000/50000 [==============================] - 16s 324us/step - loss: 1.4694 - acc: 0.4749 - val_loss: 1.4894 - val_acc: 0.4731\n",
      "Epoch 32/100\n",
      "50000/50000 [==============================] - 16s 325us/step - loss: 1.4664 - acc: 0.4758 - val_loss: 1.4892 - val_acc: 0.4697\n",
      "Epoch 33/100\n",
      "50000/50000 [==============================] - 16s 329us/step - loss: 1.4623 - acc: 0.4767 - val_loss: 1.4838 - val_acc: 0.4767\n",
      "Epoch 34/100\n",
      "50000/50000 [==============================] - 16s 318us/step - loss: 1.4582 - acc: 0.4798 - val_loss: 1.4868 - val_acc: 0.4709\n",
      "Epoch 35/100\n",
      "50000/50000 [==============================] - 16s 325us/step - loss: 1.4544 - acc: 0.4812 - val_loss: 1.5120 - val_acc: 0.4644\n",
      "Epoch 36/100\n",
      "50000/50000 [==============================] - 16s 324us/step - loss: 1.4511 - acc: 0.4824 - val_loss: 1.4872 - val_acc: 0.4733\n",
      "Epoch 37/100\n",
      "50000/50000 [==============================] - 17s 331us/step - loss: 1.4471 - acc: 0.4830 - val_loss: 1.4750 - val_acc: 0.4782\n",
      "Epoch 38/100\n",
      "50000/50000 [==============================] - 16s 323us/step - loss: 1.4436 - acc: 0.4847 - val_loss: 1.4675 - val_acc: 0.4846\n",
      "Epoch 39/100\n",
      "50000/50000 [==============================] - 16s 323us/step - loss: 1.4406 - acc: 0.4870 - val_loss: 1.4774 - val_acc: 0.4742\n",
      "Epoch 40/100\n",
      "50000/50000 [==============================] - 16s 323us/step - loss: 1.4373 - acc: 0.4871 - val_loss: 1.4700 - val_acc: 0.4803\n",
      "Epoch 41/100\n",
      "50000/50000 [==============================] - 17s 349us/step - loss: 1.4335 - acc: 0.4884 - val_loss: 1.4782 - val_acc: 0.4757\n",
      "Epoch 42/100\n",
      "50000/50000 [==============================] - 18s 352us/step - loss: 1.4308 - acc: 0.4895 - val_loss: 1.4583 - val_acc: 0.4866\n",
      "Epoch 43/100\n",
      "50000/50000 [==============================] - 16s 324us/step - loss: 1.4275 - acc: 0.4902 - val_loss: 1.4591 - val_acc: 0.4864\n",
      "Epoch 44/100\n",
      "50000/50000 [==============================] - 16s 312us/step - loss: 1.4241 - acc: 0.4918 - val_loss: 1.4898 - val_acc: 0.4722\n",
      "Epoch 45/100\n",
      "50000/50000 [==============================] - 16s 317us/step - loss: 1.4217 - acc: 0.4926 - val_loss: 1.4556 - val_acc: 0.4869\n",
      "Epoch 46/100\n",
      "50000/50000 [==============================] - 17s 341us/step - loss: 1.4188 - acc: 0.4934 - val_loss: 1.4680 - val_acc: 0.4786\n",
      "Epoch 47/100\n",
      "50000/50000 [==============================] - 17s 332us/step - loss: 1.4158 - acc: 0.4954 - val_loss: 1.4507 - val_acc: 0.4906\n",
      "Epoch 48/100\n",
      "50000/50000 [==============================] - 17s 341us/step - loss: 1.4131 - acc: 0.4962 - val_loss: 1.4605 - val_acc: 0.4859\n",
      "Epoch 49/100\n",
      "50000/50000 [==============================] - 18s 359us/step - loss: 1.4098 - acc: 0.4968 - val_loss: 1.4497 - val_acc: 0.4890\n",
      "Epoch 50/100\n",
      "50000/50000 [==============================] - 16s 312us/step - loss: 1.4074 - acc: 0.4987 - val_loss: 1.4527 - val_acc: 0.4880\n",
      "Epoch 51/100\n",
      "50000/50000 [==============================] - 16s 314us/step - loss: 1.4049 - acc: 0.4991 - val_loss: 1.4497 - val_acc: 0.4933\n",
      "Epoch 52/100\n",
      "50000/50000 [==============================] - 12s 237us/step - loss: 1.4021 - acc: 0.4996 - val_loss: 1.4424 - val_acc: 0.4918\n",
      "Epoch 53/100\n",
      "50000/50000 [==============================] - 14s 287us/step - loss: 1.3995 - acc: 0.5022 - val_loss: 1.4430 - val_acc: 0.4927\n",
      "Epoch 54/100\n",
      "50000/50000 [==============================] - 20s 391us/step - loss: 1.3971 - acc: 0.5021 - val_loss: 1.4382 - val_acc: 0.4950\n",
      "Epoch 55/100\n",
      "50000/50000 [==============================] - 18s 366us/step - loss: 1.3945 - acc: 0.5028 - val_loss: 1.4383 - val_acc: 0.4932\n",
      "Epoch 56/100\n",
      "50000/50000 [==============================] - 18s 368us/step - loss: 1.3922 - acc: 0.5034 - val_loss: 1.4401 - val_acc: 0.4938\n",
      "Epoch 57/100\n",
      "50000/50000 [==============================] - 19s 372us/step - loss: 1.3900 - acc: 0.5040 - val_loss: 1.4415 - val_acc: 0.4919\n",
      "Epoch 58/100\n"
     ]
    },
    {
     "name": "stdout",
     "output_type": "stream",
     "text": [
      "50000/50000 [==============================] - 18s 364us/step - loss: 1.3872 - acc: 0.5051 - val_loss: 1.4353 - val_acc: 0.4926\n",
      "Epoch 59/100\n",
      "50000/50000 [==============================] - 18s 365us/step - loss: 1.3849 - acc: 0.5060 - val_loss: 1.4480 - val_acc: 0.4938\n",
      "Epoch 60/100\n",
      "50000/50000 [==============================] - 18s 361us/step - loss: 1.3831 - acc: 0.5072 - val_loss: 1.4415 - val_acc: 0.4930\n",
      "Epoch 61/100\n",
      "50000/50000 [==============================] - 18s 362us/step - loss: 1.3810 - acc: 0.5065 - val_loss: 1.4290 - val_acc: 0.4992\n",
      "Epoch 62/100\n",
      "50000/50000 [==============================] - 18s 363us/step - loss: 1.3779 - acc: 0.5077 - val_loss: 1.4364 - val_acc: 0.4919\n",
      "Epoch 63/100\n",
      "50000/50000 [==============================] - 18s 362us/step - loss: 1.3763 - acc: 0.5098 - val_loss: 1.4273 - val_acc: 0.4979\n",
      "Epoch 64/100\n",
      "50000/50000 [==============================] - 18s 364us/step - loss: 1.3739 - acc: 0.5094 - val_loss: 1.4293 - val_acc: 0.4936\n",
      "Epoch 65/100\n",
      "50000/50000 [==============================] - 18s 364us/step - loss: 1.3715 - acc: 0.5116 - val_loss: 1.4259 - val_acc: 0.4980\n",
      "Epoch 66/100\n",
      "50000/50000 [==============================] - 18s 356us/step - loss: 1.3695 - acc: 0.5104 - val_loss: 1.4266 - val_acc: 0.4980\n",
      "Epoch 67/100\n",
      "50000/50000 [==============================] - 16s 315us/step - loss: 1.3676 - acc: 0.5120 - val_loss: 1.4260 - val_acc: 0.4965\n",
      "Epoch 68/100\n",
      "50000/50000 [==============================] - 16s 316us/step - loss: 1.3655 - acc: 0.5139 - val_loss: 1.4266 - val_acc: 0.4993\n",
      "Epoch 69/100\n",
      "50000/50000 [==============================] - 12s 249us/step - loss: 1.3633 - acc: 0.5160 - val_loss: 1.4257 - val_acc: 0.4985\n",
      "Epoch 70/100\n",
      "50000/50000 [==============================] - 12s 242us/step - loss: 1.3609 - acc: 0.5147 - val_loss: 1.4350 - val_acc: 0.4934\n",
      "Epoch 71/100\n",
      "50000/50000 [==============================] - 16s 311us/step - loss: 1.3591 - acc: 0.5151 - val_loss: 1.4330 - val_acc: 0.4930\n",
      "Epoch 72/100\n",
      "50000/50000 [==============================] - 15s 304us/step - loss: 1.3568 - acc: 0.5169 - val_loss: 1.4196 - val_acc: 0.5031\n",
      "Epoch 73/100\n",
      "50000/50000 [==============================] - 15s 301us/step - loss: 1.3553 - acc: 0.5177 - val_loss: 1.4173 - val_acc: 0.5023\n",
      "Epoch 74/100\n",
      "50000/50000 [==============================] - 17s 341us/step - loss: 1.3534 - acc: 0.5181 - val_loss: 1.4160 - val_acc: 0.5064\n",
      "Epoch 75/100\n",
      "50000/50000 [==============================] - 16s 327us/step - loss: 1.3512 - acc: 0.5182 - val_loss: 1.4351 - val_acc: 0.4963\n",
      "Epoch 76/100\n",
      "50000/50000 [==============================] - 17s 333us/step - loss: 1.3490 - acc: 0.5189 - val_loss: 1.4170 - val_acc: 0.5002\n",
      "Epoch 77/100\n",
      "50000/50000 [==============================] - 16s 329us/step - loss: 1.3472 - acc: 0.5194 - val_loss: 1.4312 - val_acc: 0.4936\n",
      "Epoch 78/100\n",
      "50000/50000 [==============================] - 16s 323us/step - loss: 1.3454 - acc: 0.5200 - val_loss: 1.4144 - val_acc: 0.5027\n",
      "Epoch 79/100\n",
      "50000/50000 [==============================] - 16s 323us/step - loss: 1.3432 - acc: 0.5217 - val_loss: 1.4146 - val_acc: 0.5064\n",
      "Epoch 80/100\n",
      "50000/50000 [==============================] - 16s 326us/step - loss: 1.3420 - acc: 0.5207 - val_loss: 1.4106 - val_acc: 0.5054\n",
      "Epoch 81/100\n",
      "50000/50000 [==============================] - 16s 325us/step - loss: 1.3393 - acc: 0.5215 - val_loss: 1.4111 - val_acc: 0.5029\n",
      "Epoch 82/100\n",
      "50000/50000 [==============================] - 16s 325us/step - loss: 1.3379 - acc: 0.5240 - val_loss: 1.4079 - val_acc: 0.5057\n",
      "Epoch 83/100\n",
      "50000/50000 [==============================] - 13s 269us/step - loss: 1.3364 - acc: 0.5239 - val_loss: 1.4133 - val_acc: 0.5029\n",
      "Epoch 84/100\n",
      "50000/50000 [==============================] - 13s 261us/step - loss: 1.3344 - acc: 0.5238 - val_loss: 1.4299 - val_acc: 0.5009\n",
      "Epoch 85/100\n",
      "50000/50000 [==============================] - 13s 263us/step - loss: 1.3327 - acc: 0.5247 - val_loss: 1.4077 - val_acc: 0.5041\n",
      "Epoch 86/100\n",
      "50000/50000 [==============================] - 13s 264us/step - loss: 1.3307 - acc: 0.5259 - val_loss: 1.4132 - val_acc: 0.5031\n",
      "Epoch 87/100\n",
      "50000/50000 [==============================] - 13s 262us/step - loss: 1.3291 - acc: 0.5263 - val_loss: 1.4087 - val_acc: 0.5104\n",
      "Epoch 88/100\n",
      "50000/50000 [==============================] - 13s 261us/step - loss: 1.3274 - acc: 0.5272 - val_loss: 1.4127 - val_acc: 0.5051\n",
      "Epoch 89/100\n",
      "50000/50000 [==============================] - 13s 262us/step - loss: 1.3255 - acc: 0.5274 - val_loss: 1.4228 - val_acc: 0.4983\n",
      "Epoch 90/100\n",
      "50000/50000 [==============================] - 13s 259us/step - loss: 1.3240 - acc: 0.5289 - val_loss: 1.4194 - val_acc: 0.5035\n",
      "Epoch 91/100\n",
      "50000/50000 [==============================] - 13s 259us/step - loss: 1.3224 - acc: 0.5292 - val_loss: 1.4137 - val_acc: 0.5054\n",
      "Epoch 92/100\n",
      "50000/50000 [==============================] - 14s 287us/step - loss: 1.3206 - acc: 0.5291 - val_loss: 1.4089 - val_acc: 0.5058\n",
      "Epoch 93/100\n",
      "50000/50000 [==============================] - 16s 320us/step - loss: 1.3188 - acc: 0.5284 - val_loss: 1.4096 - val_acc: 0.5066\n",
      "Epoch 94/100\n",
      "50000/50000 [==============================] - 16s 314us/step - loss: 1.3174 - acc: 0.5302 - val_loss: 1.4023 - val_acc: 0.5067\n",
      "Epoch 95/100\n",
      "50000/50000 [==============================] - 16s 319us/step - loss: 1.3150 - acc: 0.5324 - val_loss: 1.4093 - val_acc: 0.5061\n",
      "Epoch 96/100\n",
      "50000/50000 [==============================] - 16s 317us/step - loss: 1.3141 - acc: 0.5317 - val_loss: 1.3985 - val_acc: 0.5088\n",
      "Epoch 97/100\n",
      "50000/50000 [==============================] - 16s 318us/step - loss: 1.3120 - acc: 0.5328 - val_loss: 1.4007 - val_acc: 0.5085\n",
      "Epoch 98/100\n",
      "50000/50000 [==============================] - 16s 320us/step - loss: 1.3110 - acc: 0.5327 - val_loss: 1.4038 - val_acc: 0.5030\n",
      "Epoch 99/100\n",
      "50000/50000 [==============================] - 16s 319us/step - loss: 1.3090 - acc: 0.5347 - val_loss: 1.3980 - val_acc: 0.5079\n",
      "Epoch 100/100\n",
      "50000/50000 [==============================] - 16s 317us/step - loss: 1.3071 - acc: 0.5351 - val_loss: 1.4073 - val_acc: 0.5046\n"
     ]
    },
    {
     "data": {
      "text/plain": [
       "<keras.callbacks.History at 0x1122aeb70>"
      ]
     },
     "execution_count": 16,
     "metadata": {},
     "output_type": "execute_result"
    }
   ],
   "source": [
    "model.fit(X_train,Y_train,epochs=100,batch_size=64,validation_data=(X_test,Y_test))"
   ]
  },
  {
   "cell_type": "code",
   "execution_count": 21,
   "metadata": {},
   "outputs": [
    {
     "name": "stdout",
     "output_type": "stream",
     "text": [
      "50000/50000 [==============================] - 4s 75us/step\n",
      "training_score [1.3114090949630737, 0.5322]\n",
      "10000/10000 [==============================] - 1s 75us/step\n",
      "testing_score [1.4072744245529174, 0.5046]\n"
     ]
    }
   ],
   "source": [
    "print('training_score',model.evaluate(X_train,Y_train))\n",
    "print('testing_score',model.evaluate(X_test,Y_test))"
   ]
  },
  {
   "cell_type": "code",
   "execution_count": 22,
   "metadata": {},
   "outputs": [],
   "source": [
    "Y_pred=model.predict(X_test)"
   ]
  },
  {
   "cell_type": "code",
   "execution_count": 23,
   "metadata": {},
   "outputs": [
    {
     "data": {
      "text/plain": [
       "array([0.04701526, 0.08531091, 0.08515809, 0.38170993, 0.03613622,\n",
       "       0.18310688, 0.09303533, 0.00331867, 0.0783288 , 0.00687986],\n",
       "      dtype=float32)"
      ]
     },
     "execution_count": 23,
     "metadata": {},
     "output_type": "execute_result"
    }
   ],
   "source": [
    "Y_pred[0]"
   ]
  },
  {
   "cell_type": "code",
   "execution_count": 24,
   "metadata": {},
   "outputs": [
    {
     "data": {
      "text/plain": [
       "array([0., 0., 0., 1., 0., 0., 0., 0., 0., 0.])"
      ]
     },
     "execution_count": 24,
     "metadata": {},
     "output_type": "execute_result"
    }
   ],
   "source": [
    "Y_test[0]"
   ]
  }
 ],
 "metadata": {
  "kernelspec": {
   "display_name": "Python 3",
   "language": "python",
   "name": "python3"
  },
  "language_info": {
   "codemirror_mode": {
    "name": "ipython",
    "version": 3
   },
   "file_extension": ".py",
   "mimetype": "text/x-python",
   "name": "python",
   "nbconvert_exporter": "python",
   "pygments_lexer": "ipython3",
   "version": "3.6.5"
  }
 },
 "nbformat": 4,
 "nbformat_minor": 2
}
