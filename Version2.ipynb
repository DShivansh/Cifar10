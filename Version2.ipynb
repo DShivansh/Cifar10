{
 "cells": [
  {
   "cell_type": "code",
   "execution_count": 1,
   "metadata": {},
   "outputs": [],
   "source": [
    "import cifar10\n",
    "import matplotlib.pyplot as plt"
   ]
  },
  {
   "cell_type": "code",
   "execution_count": 2,
   "metadata": {},
   "outputs": [],
   "source": [
    "cifar10.data_patch='data/Cifar-10/'"
   ]
  },
  {
   "cell_type": "code",
   "execution_count": 3,
   "metadata": {},
   "outputs": [
    {
     "name": "stdout",
     "output_type": "stream",
     "text": [
      "Data has apparently already been downloaded and unpacked.\n"
     ]
    }
   ],
   "source": [
    "cifar10.maybe_download_and_extract()"
   ]
  },
  {
   "cell_type": "code",
   "execution_count": 4,
   "metadata": {},
   "outputs": [
    {
     "name": "stdout",
     "output_type": "stream",
     "text": [
      "Loading data: data/CIFAR-10/cifar-10-batches-py/batches.meta\n"
     ]
    },
    {
     "data": {
      "text/plain": [
       "['airplane',\n",
       " 'automobile',\n",
       " 'bird',\n",
       " 'cat',\n",
       " 'deer',\n",
       " 'dog',\n",
       " 'frog',\n",
       " 'horse',\n",
       " 'ship',\n",
       " 'truck']"
      ]
     },
     "execution_count": 4,
     "metadata": {},
     "output_type": "execute_result"
    }
   ],
   "source": [
    "class_names = cifar10.load_class_names()\n",
    "class_names"
   ]
  },
  {
   "cell_type": "code",
   "execution_count": 5,
   "metadata": {},
   "outputs": [
    {
     "name": "stdout",
     "output_type": "stream",
     "text": [
      "Loading data: data/CIFAR-10/cifar-10-batches-py/data_batch_1\n",
      "Loading data: data/CIFAR-10/cifar-10-batches-py/data_batch_2\n",
      "Loading data: data/CIFAR-10/cifar-10-batches-py/data_batch_3\n",
      "Loading data: data/CIFAR-10/cifar-10-batches-py/data_batch_4\n",
      "Loading data: data/CIFAR-10/cifar-10-batches-py/data_batch_5\n",
      "Loading data: data/CIFAR-10/cifar-10-batches-py/test_batch\n"
     ]
    }
   ],
   "source": [
    "images_train, cls_train, labels_train = cifar10.load_training_data()\n",
    "images_test, cls_test, labels_test = cifar10.load_test_data()"
   ]
  },
  {
   "cell_type": "code",
   "execution_count": 6,
   "metadata": {},
   "outputs": [
    {
     "name": "stdout",
     "output_type": "stream",
     "text": [
      "images_train (50000, 32, 32, 3)\n",
      "cls_train (50000,)\n",
      "labels_train (50000, 10)\n"
     ]
    }
   ],
   "source": [
    "print(\"images_train\",images_train.shape)\n",
    "print(\"cls_train\",cls_train.shape)\n",
    "print(\"labels_train\",labels_train.shape)"
   ]
  },
  {
   "cell_type": "code",
   "execution_count": 7,
   "metadata": {},
   "outputs": [
    {
     "name": "stdout",
     "output_type": "stream",
     "text": [
      "images_test (10000, 32, 32, 3)\n",
      "cls_test (10000,)\n",
      "labels_test (10000, 10)\n"
     ]
    }
   ],
   "source": [
    "print(\"images_test\",images_test.shape)\n",
    "print(\"cls_test\",cls_test.shape)\n",
    "print(\"labels_test\",labels_test.shape)"
   ]
  },
  {
   "cell_type": "code",
   "execution_count": 8,
   "metadata": {},
   "outputs": [],
   "source": [
    "train_pixel=images_train.reshape(50000,3072)\n",
    "test_pixel=images_test.reshape(10000,3072)"
   ]
  },
  {
   "cell_type": "code",
   "execution_count": 9,
   "metadata": {},
   "outputs": [],
   "source": [
    "from sklearn.decomposition import PCA"
   ]
  },
  {
   "cell_type": "code",
   "execution_count": 10,
   "metadata": {},
   "outputs": [
    {
     "data": {
      "text/plain": [
       "array([[-6.40101763e+00,  2.72903876e+00,  1.50171052e+00, ...,\n",
       "        -7.62287826e-04, -1.16359323e-03, -3.49768400e-04],\n",
       "       [ 8.29783385e-01, -9.49943219e-01,  6.00375260e+00, ...,\n",
       "         1.08434589e-04,  5.76715387e-04, -7.71005927e-04],\n",
       "       [ 7.73019978e+00, -1.15221023e+01, -2.75362051e+00, ...,\n",
       "        -1.04460109e-03, -2.14105740e-04, -3.93469526e-04],\n",
       "       ...,\n",
       "       [ 7.07346587e-01, -1.13425212e+01, -3.93914878e-01, ...,\n",
       "        -3.80341568e-04,  1.86432348e-03,  1.44785229e-03],\n",
       "       [ 1.13679090e+01, -3.37597765e+00,  5.56619766e+00, ...,\n",
       "        -4.67096832e-04,  7.44972963e-04, -1.67065056e-03],\n",
       "       [ 4.19279645e+00, -1.18418848e+00, -4.44596297e+00, ...,\n",
       "         9.67968258e-04,  2.40363971e-04, -2.80506224e-05]])"
      ]
     },
     "execution_count": 10,
     "metadata": {},
     "output_type": "execute_result"
    }
   ],
   "source": [
    "pca=PCA()\n",
    "pca.fit_transform(train_pixel)"
   ]
  },
  {
   "cell_type": "code",
   "execution_count": 11,
   "metadata": {},
   "outputs": [
    {
     "data": {
      "text/plain": [
       "658"
      ]
     },
     "execution_count": 11,
     "metadata": {},
     "output_type": "execute_result"
    }
   ],
   "source": [
    "k=0\n",
    "total=sum(pca.explained_variance_)\n",
    "current=0\n",
    "while current/total <0.99:\n",
    "    current+=pca.explained_variance_[k]\n",
    "    k=k+1\n",
    "k"
   ]
  },
  {
   "cell_type": "code",
   "execution_count": 12,
   "metadata": {},
   "outputs": [
    {
     "data": {
      "text/plain": [
       "(50000, 658)"
      ]
     },
     "execution_count": 12,
     "metadata": {},
     "output_type": "execute_result"
    }
   ],
   "source": [
    "pca = PCA(n_components=k,whiten=True)\n",
    "transformed_data=pca.fit_transform(train_pixel)\n",
    "transformed_data.shape"
   ]
  },
  {
   "cell_type": "code",
   "execution_count": 13,
   "metadata": {},
   "outputs": [],
   "source": [
    "transformed_test=pca.transform(test_pixel)"
   ]
  },
  {
   "cell_type": "code",
   "execution_count": 14,
   "metadata": {},
   "outputs": [],
   "source": [
    "X_train,X_test,Y_train,Y_test=transformed_data,transformed_test,labels_train,labels_test"
   ]
  },
  {
   "cell_type": "code",
   "execution_count": 15,
   "metadata": {},
   "outputs": [
    {
     "data": {
      "text/plain": [
       "array([0., 0., 0., 0., 0., 0., 0., 0., 0., 1.])"
      ]
     },
     "execution_count": 15,
     "metadata": {},
     "output_type": "execute_result"
    }
   ],
   "source": [
    "Y_train[1]"
   ]
  },
  {
   "cell_type": "code",
   "execution_count": 16,
   "metadata": {},
   "outputs": [
    {
     "data": {
      "text/plain": [
       "array([0., 0., 0., 0., 0., 0., 0., 0., 0., 1.])"
      ]
     },
     "execution_count": 16,
     "metadata": {},
     "output_type": "execute_result"
    }
   ],
   "source": [
    "labels_train[1]"
   ]
  },
  {
   "cell_type": "code",
   "execution_count": 17,
   "metadata": {},
   "outputs": [
    {
     "data": {
      "text/plain": [
       "array([0., 0., 0., 0., 0., 0., 0., 0., 1., 0.])"
      ]
     },
     "execution_count": 17,
     "metadata": {},
     "output_type": "execute_result"
    }
   ],
   "source": [
    "Y_test[1]"
   ]
  },
  {
   "cell_type": "code",
   "execution_count": 18,
   "metadata": {},
   "outputs": [
    {
     "name": "stderr",
     "output_type": "stream",
     "text": [
      "/anaconda3/lib/python3.6/site-packages/h5py/__init__.py:36: FutureWarning: Conversion of the second argument of issubdtype from `float` to `np.floating` is deprecated. In future, it will be treated as `np.float64 == np.dtype(float).type`.\n",
      "  from ._conv import register_converters as _register_converters\n",
      "Using TensorFlow backend.\n"
     ]
    }
   ],
   "source": [
    "from keras.layers import Dense\n",
    "from keras.models import Sequential"
   ]
  },
  {
   "cell_type": "code",
   "execution_count": 19,
   "metadata": {},
   "outputs": [],
   "source": [
    "model=Sequential()"
   ]
  },
  {
   "cell_type": "code",
   "execution_count": 20,
   "metadata": {},
   "outputs": [],
   "source": [
    "layer1=Dense(units=750,activation='relu',input_dim=k)\n",
    "model.add(layer1)\n",
    "layer2=Dense(units=500,activation='relu')\n",
    "model.add(layer2)\n",
    "layer3=Dense(units=250,activation='relu')\n",
    "model.add(layer3)\n",
    "output_layer=Dense(units=10,activation='sigmoid')\n",
    "model.add(output_layer)"
   ]
  },
  {
   "cell_type": "code",
   "execution_count": 21,
   "metadata": {},
   "outputs": [],
   "source": [
    "model.compile(optimizer='adam',loss='categorical_crossentropy',metrics=['accuracy'])"
   ]
  },
  {
   "cell_type": "code",
   "execution_count": 22,
   "metadata": {
    "scrolled": true
   },
   "outputs": [
    {
     "name": "stdout",
     "output_type": "stream",
     "text": [
      "Train on 50000 samples, validate on 10000 samples\n",
      "Epoch 1/19\n",
      "50000/50000 [==============================] - 15s 296us/step - loss: 1.8209 - acc: 0.3462 - val_loss: 1.5988 - val_acc: 0.4339\n",
      "Epoch 2/19\n",
      "50000/50000 [==============================] - 13s 251us/step - loss: 1.3258 - acc: 0.5247 - val_loss: 1.5046 - val_acc: 0.4729\n",
      "Epoch 3/19\n",
      "50000/50000 [==============================] - 14s 289us/step - loss: 0.9588 - acc: 0.6516 - val_loss: 1.5758 - val_acc: 0.4836\n",
      "Epoch 4/19\n",
      "50000/50000 [==============================] - 14s 286us/step - loss: 0.6475 - acc: 0.7631 - val_loss: 1.8581 - val_acc: 0.4841\n",
      "Epoch 5/19\n",
      "50000/50000 [==============================] - 15s 303us/step - loss: 0.4373 - acc: 0.8415 - val_loss: 2.1738 - val_acc: 0.4849\n",
      "Epoch 6/19\n",
      "50000/50000 [==============================] - 13s 262us/step - loss: 0.3208 - acc: 0.8849 - val_loss: 2.2981 - val_acc: 0.4895\n",
      "Epoch 7/19\n",
      "50000/50000 [==============================] - 14s 272us/step - loss: 0.2489 - acc: 0.9160 - val_loss: 2.6336 - val_acc: 0.4718\n",
      "Epoch 8/19\n",
      "50000/50000 [==============================] - 14s 273us/step - loss: 0.1983 - acc: 0.9331 - val_loss: 2.8069 - val_acc: 0.4855\n",
      "Epoch 9/19\n",
      "50000/50000 [==============================] - 14s 277us/step - loss: 0.1774 - acc: 0.9415 - val_loss: 2.9851 - val_acc: 0.4834\n",
      "Epoch 10/19\n",
      "50000/50000 [==============================] - 14s 275us/step - loss: 0.1597 - acc: 0.9480 - val_loss: 2.9346 - val_acc: 0.4872\n",
      "Epoch 11/19\n",
      "50000/50000 [==============================] - 15s 297us/step - loss: 0.1471 - acc: 0.9527 - val_loss: 3.0972 - val_acc: 0.4839\n",
      "Epoch 12/19\n",
      "50000/50000 [==============================] - 13s 259us/step - loss: 0.1371 - acc: 0.9560 - val_loss: 3.1125 - val_acc: 0.4842\n",
      "Epoch 13/19\n",
      "50000/50000 [==============================] - 14s 272us/step - loss: 0.1221 - acc: 0.9616 - val_loss: 3.1894 - val_acc: 0.4807\n",
      "Epoch 14/19\n",
      "50000/50000 [==============================] - 14s 285us/step - loss: 0.1182 - acc: 0.9615 - val_loss: 3.3201 - val_acc: 0.4824\n",
      "Epoch 15/19\n",
      "50000/50000 [==============================] - 15s 309us/step - loss: 0.1194 - acc: 0.9626 - val_loss: 3.3917 - val_acc: 0.4836\n",
      "Epoch 16/19\n",
      "50000/50000 [==============================] - 14s 277us/step - loss: 0.1095 - acc: 0.9652 - val_loss: 3.4791 - val_acc: 0.4758\n",
      "Epoch 17/19\n",
      "50000/50000 [==============================] - 12s 248us/step - loss: 0.1095 - acc: 0.9655 - val_loss: 3.5609 - val_acc: 0.4793\n",
      "Epoch 18/19\n",
      "50000/50000 [==============================] - 15s 291us/step - loss: 0.1003 - acc: 0.9691 - val_loss: 3.6444 - val_acc: 0.4805\n",
      "Epoch 19/19\n",
      "50000/50000 [==============================] - 14s 278us/step - loss: 0.1000 - acc: 0.9700 - val_loss: 3.5934 - val_acc: 0.4800\n"
     ]
    },
    {
     "data": {
      "text/plain": [
       "<keras.callbacks.History at 0x1aa4a80860>"
      ]
     },
     "execution_count": 22,
     "metadata": {},
     "output_type": "execute_result"
    }
   ],
   "source": [
    "model.fit(X_train,Y_train,epochs=19,batch_size=50,validation_data=(X_test,Y_test))"
   ]
  },
  {
   "cell_type": "code",
   "execution_count": 23,
   "metadata": {},
   "outputs": [
    {
     "name": "stdout",
     "output_type": "stream",
     "text": [
      "50000/50000 [==============================] - 3s 60us/step\n",
      "training_score [0.07293685972437262, 0.9783]\n",
      "10000/10000 [==============================] - 1s 54us/step\n",
      "testing_score [3.593381024169922, 0.48]\n"
     ]
    }
   ],
   "source": [
    "print('training_score',model.evaluate(X_train,Y_train))\n",
    "print('testing_score',model.evaluate(X_test,Y_test))"
   ]
  }
 ],
 "metadata": {
  "kernelspec": {
   "display_name": "Python 3",
   "language": "python",
   "name": "python3"
  },
  "language_info": {
   "codemirror_mode": {
    "name": "ipython",
    "version": 3
   },
   "file_extension": ".py",
   "mimetype": "text/x-python",
   "name": "python",
   "nbconvert_exporter": "python",
   "pygments_lexer": "ipython3",
   "version": "3.6.5"
  }
 },
 "nbformat": 4,
 "nbformat_minor": 2
}
